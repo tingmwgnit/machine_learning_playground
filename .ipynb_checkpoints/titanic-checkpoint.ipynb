{
 "cells": [
  {
   "cell_type": "code",
   "execution_count": 7,
   "metadata": {},
   "outputs": [],
   "source": [
    "# Load packages\n",
    "options(warn = -1)   #suppress warning messgaes for packages\n",
    "library('ggplot2') # visualization\n",
    "library('ggthemes') # visualization\n",
    "library('scales') # visualization\n",
    "library('dplyr') # data manipulation\n",
    "library('mice') # imputation\n",
    "library('randomForest') # classification algorithm"
   ]
  },
  {
   "cell_type": "code",
   "execution_count": null,
   "metadata": {},
   "outputs": [],
   "source": [
    "train <- read.csv('../input/train.csv', stringsAsFactors = F)\n",
    "test  <- read.csv('../input/test.csv', stringsAsFactors = F)"
   ]
  },
  {
   "cell_type": "code",
   "execution_count": 4,
   "metadata": {},
   "outputs": [
    {
     "name": "stdout",
     "output_type": "stream",
     "text": [
      "\n",
      "  There is a binary version available but the source version is later:\n",
      "     binary source needs_compilation\n",
      "mice 3.13.0 3.15.0              TRUE\n",
      "\n",
      "  Binaries will be installed\n",
      "package 'mice' successfully unpacked and MD5 sums checked\n",
      "\n",
      "The downloaded binary packages are in\n",
      "\tC:\\Users\\Ting\\AppData\\Local\\Temp\\RtmpsNzsK6\\downloaded_packages\n"
     ]
    }
   ],
   "source": []
  }
 ],
 "metadata": {
  "kernelspec": {
   "display_name": "R",
   "language": "R",
   "name": "ir"
  },
  "language_info": {
   "codemirror_mode": "r",
   "file_extension": ".r",
   "mimetype": "text/x-r-source",
   "name": "R",
   "pygments_lexer": "r",
   "version": "3.6.1"
  }
 },
 "nbformat": 4,
 "nbformat_minor": 4
}
