{
 "cells": [
  {
   "cell_type": "markdown",
   "metadata": {},
   "source": [
    "# 1. Project Objective\n",
    "Using random forest algorithm to predict the survival of Titanic passengers based on their demographic information. This is a classification task, which is a supervised machine learning task."
   ]
  },
  {
   "cell_type": "markdown",
   "metadata": {},
   "source": [
    "# 2. Coding Environment"
   ]
  },
  {
   "cell_type": "code",
   "execution_count": 1,
   "metadata": {
    "_uuid": "37053a771d9887d9d3c4dbe1beae1cfa5f3bd2af"
   },
   "outputs": [
    {
     "name": "stderr",
     "output_type": "stream",
     "text": [
      "Warning message:\n",
      "\"package 'ggthemes' was built under R version 3.6.3\"Warning message:\n",
      "\"package 'dplyr' was built under R version 3.6.3\"\n",
      "Attaching package: 'dplyr'\n",
      "\n",
      "The following objects are masked from 'package:stats':\n",
      "\n",
      "    filter, lag\n",
      "\n",
      "The following objects are masked from 'package:base':\n",
      "\n",
      "    intersect, setdiff, setequal, union\n",
      "\n",
      "Warning message:\n",
      "\"package 'mice' was built under R version 3.6.3\"\n",
      "Attaching package: 'mice'\n",
      "\n",
      "The following object is masked from 'package:stats':\n",
      "\n",
      "    filter\n",
      "\n",
      "The following objects are masked from 'package:base':\n",
      "\n",
      "    cbind, rbind\n",
      "\n",
      "randomForest 4.6-14\n",
      "Type rfNews() to see new features/changes/bug fixes.\n",
      "\n",
      "Attaching package: 'randomForest'\n",
      "\n",
      "The following object is masked from 'package:dplyr':\n",
      "\n",
      "    combine\n",
      "\n",
      "The following object is masked from 'package:ggplot2':\n",
      "\n",
      "    margin\n",
      "\n"
     ]
    }
   ],
   "source": [
    "# Load packages\n",
    "library('ggplot2') # visualization\n",
    "library('ggthemes') # visualization\n",
    "library('scales') # visualization\n",
    "library('dplyr') # data manipulation\n",
    "library('mice') # imputation\n",
    "library('randomForest') # classification algorithm"
   ]
  },
  {
   "cell_type": "markdown",
   "metadata": {},
   "source": [
    "# 3. Data Introduction\n",
    "Data was provided in train and test datasets. The test.csv dataset contains similar information but does not disclose the “ground truth” for each passenger. It’s our job to predict these outcomes.\n",
    "data source: https://www.kaggle.com/competitions/titanic/data \n",
    "\n",
    "Data Dictionary:\n",
    "\n",
    "|Variable\t| Definition\t|Key|\n",
    "|---|---|---|\n",
    "|survival |\tSurvival\t|0 = No, 1 = Yes|\n",
    "|pclass |\tTicket class\t|1 = 1st, 2 = 2nd, 3 = 3rd|\n",
    "|sex\t|Sex\t|\n",
    "|Age\t|Age in years\t|\n",
    "|sibsp\t|# of siblings / spouses aboard the Titanic\t|\n",
    "|parch\t|# of parents / children aboard the Titanic\t|\n",
    "|ticket\t|Ticket number\t|\n",
    "|fare\t|Passenger fare\t|\n",
    "|cabin\t|Cabin number\t|\n",
    "|embarked\t|Port of Embarkation\t|C = Cherbourg, Q = Queenstown, S = Southampton|"
   ]
  },
  {
   "cell_type": "code",
   "execution_count": 3,
   "metadata": {
    "_uuid": "d9ab13d1b9f96f0b0fda3eb1a347bf054399577f"
   },
   "outputs": [],
   "source": [
    "#load the data\n",
    "train <- read.csv('../titanic/train.csv', stringsAsFactors = F)\n",
    "test  <- read.csv('../titanic/test.csv', stringsAsFactors = F)"
   ]
  },
  {
   "cell_type": "code",
   "execution_count": 4,
   "metadata": {
    "_uuid": "7e84c2c4adcec37e48024dd1e4ec0c65086b4cf8"
   },
   "outputs": [],
   "source": [
    "full  <- bind_rows(train, test) # bind training & test data, they were provided seperately"
   ]
  },
  {
   "cell_type": "code",
   "execution_count": 5,
   "metadata": {
    "_uuid": "b90a35a7e51c19dd615c2f29d26c50474c5d497f"
   },
   "outputs": [
    {
     "name": "stdout",
     "output_type": "stream",
     "text": [
      "'data.frame':\t1309 obs. of  12 variables:\n",
      " $ PassengerId: int  1 2 3 4 5 6 7 8 9 10 ...\n",
      " $ Survived   : int  0 1 1 1 0 0 0 0 1 1 ...\n",
      " $ Pclass     : int  3 1 3 1 3 3 1 3 3 2 ...\n",
      " $ Name       : chr  \"Braund, Mr. Owen Harris\" \"Cumings, Mrs. John Bradley (Florence Briggs Thayer)\" \"Heikkinen, Miss. Laina\" \"Futrelle, Mrs. Jacques Heath (Lily May Peel)\" ...\n",
      " $ Sex        : chr  \"male\" \"female\" \"female\" \"female\" ...\n",
      " $ Age        : num  22 38 26 35 35 NA 54 2 27 14 ...\n",
      " $ SibSp      : int  1 1 0 1 0 0 0 3 0 1 ...\n",
      " $ Parch      : int  0 0 0 0 0 0 0 1 2 0 ...\n",
      " $ Ticket     : chr  \"A/5 21171\" \"PC 17599\" \"STON/O2. 3101282\" \"113803\" ...\n",
      " $ Fare       : num  7.25 71.28 7.92 53.1 8.05 ...\n",
      " $ Cabin      : chr  \"\" \"C85\" \"\" \"C123\" ...\n",
      " $ Embarked   : chr  \"S\" \"C\" \"S\" \"S\" ...\n"
     ]
    }
   ],
   "source": [
    "# check data\n",
    "str(full)"
   ]
  },
  {
   "cell_type": "code",
   "execution_count": 6,
   "metadata": {},
   "outputs": [
    {
     "data": {
      "text/html": [
       "<table>\n",
       "<thead><tr><th scope=col>PassengerId</th><th scope=col>Survived</th><th scope=col>Pclass</th><th scope=col>Name</th><th scope=col>Sex</th><th scope=col>Age</th><th scope=col>SibSp</th><th scope=col>Parch</th><th scope=col>Ticket</th><th scope=col>Fare</th><th scope=col>Cabin</th><th scope=col>Embarked</th></tr></thead>\n",
       "<tbody>\n",
       "\t<tr><td>1                                                  </td><td>0                                                  </td><td>3                                                  </td><td>Braund, Mr. Owen Harris                            </td><td>male                                               </td><td>22                                                 </td><td>1                                                  </td><td>0                                                  </td><td>A/5 21171                                          </td><td> 7.2500                                            </td><td>                                                   </td><td>S                                                  </td></tr>\n",
       "\t<tr><td>2                                                  </td><td>1                                                  </td><td>1                                                  </td><td>Cumings, Mrs. John Bradley (Florence Briggs Thayer)</td><td>female                                             </td><td>38                                                 </td><td>1                                                  </td><td>0                                                  </td><td>PC 17599                                           </td><td>71.2833                                            </td><td>C85                                                </td><td>C                                                  </td></tr>\n",
       "\t<tr><td>3                                                  </td><td>1                                                  </td><td>3                                                  </td><td>Heikkinen, Miss. Laina                             </td><td>female                                             </td><td>26                                                 </td><td>0                                                  </td><td>0                                                  </td><td>STON/O2. 3101282                                   </td><td> 7.9250                                            </td><td>                                                   </td><td>S                                                  </td></tr>\n",
       "\t<tr><td>4                                                  </td><td>1                                                  </td><td>1                                                  </td><td>Futrelle, Mrs. Jacques Heath (Lily May Peel)       </td><td>female                                             </td><td>35                                                 </td><td>1                                                  </td><td>0                                                  </td><td>113803                                             </td><td>53.1000                                            </td><td>C123                                               </td><td>S                                                  </td></tr>\n",
       "\t<tr><td>5                                                  </td><td>0                                                  </td><td>3                                                  </td><td>Allen, Mr. William Henry                           </td><td>male                                               </td><td>35                                                 </td><td>0                                                  </td><td>0                                                  </td><td>373450                                             </td><td> 8.0500                                            </td><td>                                                   </td><td>S                                                  </td></tr>\n",
       "\t<tr><td>6                                                  </td><td>0                                                  </td><td>3                                                  </td><td>Moran, Mr. James                                   </td><td>male                                               </td><td>NA                                                 </td><td>0                                                  </td><td>0                                                  </td><td>330877                                             </td><td> 8.4583                                            </td><td>                                                   </td><td>Q                                                  </td></tr>\n",
       "</tbody>\n",
       "</table>\n"
      ],
      "text/latex": [
       "\\begin{tabular}{r|llllllllllll}\n",
       " PassengerId & Survived & Pclass & Name & Sex & Age & SibSp & Parch & Ticket & Fare & Cabin & Embarked\\\\\n",
       "\\hline\n",
       "\t 1                                                   & 0                                                   & 3                                                   & Braund, Mr. Owen Harris                             & male                                                & 22                                                  & 1                                                   & 0                                                   & A/5 21171                                           &  7.2500                                             &                                                     & S                                                  \\\\\n",
       "\t 2                                                   & 1                                                   & 1                                                   & Cumings, Mrs. John Bradley (Florence Briggs Thayer) & female                                              & 38                                                  & 1                                                   & 0                                                   & PC 17599                                            & 71.2833                                             & C85                                                 & C                                                  \\\\\n",
       "\t 3                                                   & 1                                                   & 3                                                   & Heikkinen, Miss. Laina                              & female                                              & 26                                                  & 0                                                   & 0                                                   & STON/O2. 3101282                                    &  7.9250                                             &                                                     & S                                                  \\\\\n",
       "\t 4                                                   & 1                                                   & 1                                                   & Futrelle, Mrs. Jacques Heath (Lily May Peel)        & female                                              & 35                                                  & 1                                                   & 0                                                   & 113803                                              & 53.1000                                             & C123                                                & S                                                  \\\\\n",
       "\t 5                                                   & 0                                                   & 3                                                   & Allen, Mr. William Henry                            & male                                                & 35                                                  & 0                                                   & 0                                                   & 373450                                              &  8.0500                                             &                                                     & S                                                  \\\\\n",
       "\t 6                                                   & 0                                                   & 3                                                   & Moran, Mr. James                                    & male                                                & NA                                                  & 0                                                   & 0                                                   & 330877                                              &  8.4583                                             &                                                     & Q                                                  \\\\\n",
       "\\end{tabular}\n"
      ],
      "text/markdown": [
       "\n",
       "| PassengerId | Survived | Pclass | Name | Sex | Age | SibSp | Parch | Ticket | Fare | Cabin | Embarked |\n",
       "|---|---|---|---|---|---|---|---|---|---|---|---|\n",
       "| 1                                                   | 0                                                   | 3                                                   | Braund, Mr. Owen Harris                             | male                                                | 22                                                  | 1                                                   | 0                                                   | A/5 21171                                           |  7.2500                                             |                                                     | S                                                   |\n",
       "| 2                                                   | 1                                                   | 1                                                   | Cumings, Mrs. John Bradley (Florence Briggs Thayer) | female                                              | 38                                                  | 1                                                   | 0                                                   | PC 17599                                            | 71.2833                                             | C85                                                 | C                                                   |\n",
       "| 3                                                   | 1                                                   | 3                                                   | Heikkinen, Miss. Laina                              | female                                              | 26                                                  | 0                                                   | 0                                                   | STON/O2. 3101282                                    |  7.9250                                             |                                                     | S                                                   |\n",
       "| 4                                                   | 1                                                   | 1                                                   | Futrelle, Mrs. Jacques Heath (Lily May Peel)        | female                                              | 35                                                  | 1                                                   | 0                                                   | 113803                                              | 53.1000                                             | C123                                                | S                                                   |\n",
       "| 5                                                   | 0                                                   | 3                                                   | Allen, Mr. William Henry                            | male                                                | 35                                                  | 0                                                   | 0                                                   | 373450                                              |  8.0500                                             |                                                     | S                                                   |\n",
       "| 6                                                   | 0                                                   | 3                                                   | Moran, Mr. James                                    | male                                                | NA                                                  | 0                                                   | 0                                                   | 330877                                              |  8.4583                                             |                                                     | Q                                                   |\n",
       "\n"
      ],
      "text/plain": [
       "  PassengerId Survived Pclass\n",
       "1 1           0        3     \n",
       "2 2           1        1     \n",
       "3 3           1        3     \n",
       "4 4           1        1     \n",
       "5 5           0        3     \n",
       "6 6           0        3     \n",
       "  Name                                                Sex    Age SibSp Parch\n",
       "1 Braund, Mr. Owen Harris                             male   22  1     0    \n",
       "2 Cumings, Mrs. John Bradley (Florence Briggs Thayer) female 38  1     0    \n",
       "3 Heikkinen, Miss. Laina                              female 26  0     0    \n",
       "4 Futrelle, Mrs. Jacques Heath (Lily May Peel)        female 35  1     0    \n",
       "5 Allen, Mr. William Henry                            male   35  0     0    \n",
       "6 Moran, Mr. James                                    male   NA  0     0    \n",
       "  Ticket           Fare    Cabin Embarked\n",
       "1 A/5 21171         7.2500       S       \n",
       "2 PC 17599         71.2833 C85   C       \n",
       "3 STON/O2. 3101282  7.9250       S       \n",
       "4 113803           53.1000 C123  S       \n",
       "5 373450            8.0500       S       \n",
       "6 330877            8.4583       Q       "
      ]
     },
     "metadata": {},
     "output_type": "display_data"
    }
   ],
   "source": [
    "head(train)# first 5 rows"
   ]
  },
  {
   "cell_type": "code",
   "execution_count": 5,
   "metadata": {
    "_uuid": "574e9e0cc46960b6f981c207260bae71d1b2c9e6"
   },
   "outputs": [],
   "source": [
    "# Grab title from passenger names\n",
    "full$Title <- gsub('(.*, )|(\\\\..*)', '', full$Name)"
   ]
  },
  {
   "cell_type": "markdown",
   "metadata": {
    "_uuid": "88de49efc42dc1af9e1a84486a22ed1d725a0160"
   },
   "source": [
    "# 4. Feature Engineering\n",
    "Extract features (characteristics, properties, attributes) from raw data to improve the results of prediction."
   ]
  },
  {
   "cell_type": "markdown",
   "metadata": {},
   "source": [
    "# 4.1 Social status revealed by passengers' title\n",
    "Passengers' social status could be an useful predictor of their chance of survival."
   ]
  },
  {
   "cell_type": "code",
   "execution_count": 6,
   "metadata": {
    "_uuid": "0f64af2251c1d058932ae1489977e5f80beff53e"
   },
   "outputs": [
    {
     "data": {
      "text/plain": [
       "        \n",
       "         Capt Col Don Dona  Dr Jonkheer Lady Major Master Miss Mlle Mme  Mr Mrs\n",
       "  female    0   0   0    1   1        0    1     0      0  260    2   1   0 197\n",
       "  male      1   4   1    0   7        1    0     2     61    0    0   0 757   0\n",
       "        \n",
       "          Ms Rev Sir the Countess\n",
       "  female   2   0   0            1\n",
       "  male     0   8   1            0"
      ]
     },
     "metadata": {},
     "output_type": "display_data"
    }
   ],
   "source": [
    "# Show title counts by sex\n",
    "table(full$Sex, full$Title)"
   ]
  },
  {
   "cell_type": "code",
   "execution_count": 7,
   "metadata": {
    "_uuid": "e68f7873d81345d72d43cece3bcf37342e89ca98"
   },
   "outputs": [],
   "source": [
    "# Titles with very low cell counts to be combined to \"rare\" level\n",
    "rare_title <- c('Dona', 'Lady', 'the Countess','Capt', 'Col', 'Don', \n",
    "                'Dr', 'Major', 'Rev', 'Sir', 'Jonkheer')"
   ]
  },
  {
   "cell_type": "code",
   "execution_count": 8,
   "metadata": {
    "_uuid": "27a29ddc7846c1be1d044ce9eb3efe268654d0a0"
   },
   "outputs": [],
   "source": [
    "# Also reassign mlle, ms, and mme accordingly\n",
    "full$Title[full$Title == 'Mlle']        <- 'Miss' \n",
    "full$Title[full$Title == 'Ms']          <- 'Miss'\n",
    "full$Title[full$Title == 'Mme']         <- 'Mrs' \n",
    "full$Title[full$Title %in% rare_title]  <- 'Rare Title'"
   ]
  },
  {
   "cell_type": "code",
   "execution_count": 9,
   "metadata": {
    "_uuid": "3337975fa24c5f29dc107596dca719851672c038"
   },
   "outputs": [
    {
     "data": {
      "text/plain": [
       "        \n",
       "         Master Miss  Mr Mrs Rare Title\n",
       "  female      0  264   0 198          4\n",
       "  male       61    0 757   0         25"
      ]
     },
     "metadata": {},
     "output_type": "display_data"
    }
   ],
   "source": [
    "# Show title counts by sex again\n",
    "table(full$Sex, full$Title)"
   ]
  },
  {
   "cell_type": "code",
   "execution_count": 10,
   "metadata": {
    "_uuid": "05eb362f34d7e06f7090f12938e35ef75374f2c9"
   },
   "outputs": [],
   "source": [
    "# Finally, grab surname from passenger name\n",
    "full$Surname <- sapply(full$Name,  \n",
    "                      function(x) strsplit(x, split = '[,.]')[[1]][1])"
   ]
  },
  {
   "cell_type": "code",
   "execution_count": 11,
   "metadata": {
    "_uuid": "af41f70bc262f6bd7aade602554460b184ada3d8"
   },
   "outputs": [
    {
     "name": "stdout",
     "output_type": "stream",
     "text": [
      "We have <b> 875 </b> unique surnames. I would be interested to infer ethnicity based on surname --- another time."
     ]
    }
   ],
   "source": [
    "cat(paste('We have <b>', nlevels(factor(full$Surname)), '</b> unique surnames. I would be interested to infer ethnicity based on surname --- another time.'))"
   ]
  },
  {
   "cell_type": "markdown",
   "metadata": {
    "_uuid": "a110580034598702201755928be9d85a067ce6cd"
   },
   "source": [
    "# 4.2 Size of family\n",
    "\n",
    "Now that we've taken care of splitting passenger name into some new variables, we can take it a step further and make some new family variables. First we're going to make a **family size** variable based on number of siblings/spouse(s) (maybe someone has more than one spouse?) and number of children/parents. \n"
   ]
  },
  {
   "cell_type": "code",
   "execution_count": 12,
   "metadata": {
    "_uuid": "ce969e4748b95ecd188a4797928a4d149aa1439f"
   },
   "outputs": [],
   "source": [
    "# Create a family size variable including the passenger themselves\n",
    "full$Fsize <- full$SibSp + full$Parch + 1"
   ]
  },
  {
   "cell_type": "code",
   "execution_count": 13,
   "metadata": {
    "_uuid": "08e7dcf1815dc219cd0b61b1122d65964bbd3477"
   },
   "outputs": [],
   "source": [
    "# Create a family variable \n",
    "full$Family <- paste(full$Surname, full$Fsize, sep='_')"
   ]
  },
  {
   "cell_type": "code",
   "execution_count": 14,
   "metadata": {
    "_uuid": "b3e95df51d5e0f009bf4332afc7f96768c3fbe99"
   },
   "outputs": [],
   "source": [
    "# Discretize family size\n",
    "full$FsizeD[full$Fsize == 1] <- 'singleton'\n",
    "full$FsizeD[full$Fsize < 5 & full$Fsize > 1] <- 'small'\n",
    "full$FsizeD[full$Fsize > 4] <- 'large'"
   ]
  },
  {
   "cell_type": "markdown",
   "metadata": {
    "_uuid": "d561ab573fcd49396b7ee637da28f13184f0e955"
   },
   "source": [
    "# 4.3 Cabin number: an indicator of passengers' possible location when the ship started to sink and their financial status\n",
    "\n",
    "What's left? There's probably some potentially useful information in the **passenger cabin** variable including about their **deck**. Let's take a look."
   ]
  },
  {
   "cell_type": "code",
   "execution_count": 15,
   "metadata": {
    "_uuid": "a8dbfb3d08d30f0341c403fb3f7e8c61a3ef64fa"
   },
   "outputs": [
    {
     "data": {
      "text/html": [
       "<ol class=list-inline>\n",
       "\t<li>''</li>\n",
       "\t<li>'C85'</li>\n",
       "\t<li>''</li>\n",
       "\t<li>'C123'</li>\n",
       "\t<li>''</li>\n",
       "\t<li>''</li>\n",
       "\t<li>'E46'</li>\n",
       "\t<li>''</li>\n",
       "\t<li>''</li>\n",
       "\t<li>''</li>\n",
       "\t<li>'G6'</li>\n",
       "\t<li>'C103'</li>\n",
       "\t<li>''</li>\n",
       "\t<li>''</li>\n",
       "\t<li>''</li>\n",
       "\t<li>''</li>\n",
       "\t<li>''</li>\n",
       "\t<li>''</li>\n",
       "\t<li>''</li>\n",
       "\t<li>''</li>\n",
       "\t<li>''</li>\n",
       "\t<li>'D56'</li>\n",
       "\t<li>''</li>\n",
       "\t<li>'A6'</li>\n",
       "\t<li>''</li>\n",
       "\t<li>''</li>\n",
       "\t<li>''</li>\n",
       "\t<li>'C23 C25 C27'</li>\n",
       "</ol>\n"
      ],
      "text/latex": [
       "\\begin{enumerate*}\n",
       "\\item ''\n",
       "\\item 'C85'\n",
       "\\item ''\n",
       "\\item 'C123'\n",
       "\\item ''\n",
       "\\item ''\n",
       "\\item 'E46'\n",
       "\\item ''\n",
       "\\item ''\n",
       "\\item ''\n",
       "\\item 'G6'\n",
       "\\item 'C103'\n",
       "\\item ''\n",
       "\\item ''\n",
       "\\item ''\n",
       "\\item ''\n",
       "\\item ''\n",
       "\\item ''\n",
       "\\item ''\n",
       "\\item ''\n",
       "\\item ''\n",
       "\\item 'D56'\n",
       "\\item ''\n",
       "\\item 'A6'\n",
       "\\item ''\n",
       "\\item ''\n",
       "\\item ''\n",
       "\\item 'C23 C25 C27'\n",
       "\\end{enumerate*}\n"
      ],
      "text/markdown": [
       "1. ''\n",
       "2. 'C85'\n",
       "3. ''\n",
       "4. 'C123'\n",
       "5. ''\n",
       "6. ''\n",
       "7. 'E46'\n",
       "8. ''\n",
       "9. ''\n",
       "10. ''\n",
       "11. 'G6'\n",
       "12. 'C103'\n",
       "13. ''\n",
       "14. ''\n",
       "15. ''\n",
       "16. ''\n",
       "17. ''\n",
       "18. ''\n",
       "19. ''\n",
       "20. ''\n",
       "21. ''\n",
       "22. 'D56'\n",
       "23. ''\n",
       "24. 'A6'\n",
       "25. ''\n",
       "26. ''\n",
       "27. ''\n",
       "28. 'C23 C25 C27'\n",
       "\n",
       "\n"
      ],
      "text/plain": [
       " [1] \"\"            \"C85\"         \"\"            \"C123\"        \"\"           \n",
       " [6] \"\"            \"E46\"         \"\"            \"\"            \"\"           \n",
       "[11] \"G6\"          \"C103\"        \"\"            \"\"            \"\"           \n",
       "[16] \"\"            \"\"            \"\"            \"\"            \"\"           \n",
       "[21] \"\"            \"D56\"         \"\"            \"A6\"          \"\"           \n",
       "[26] \"\"            \"\"            \"C23 C25 C27\""
      ]
     },
     "metadata": {},
     "output_type": "display_data"
    }
   ],
   "source": [
    "# This variable appears to have a lot of missing values\n",
    "full$Cabin[1:28]"
   ]
  },
  {
   "cell_type": "code",
   "execution_count": 16,
   "metadata": {
    "_uuid": "cbe17376fbfcaf31ee79a71a3cf8940b4ba5049b"
   },
   "outputs": [
    {
     "data": {
      "text/html": [
       "<ol class=list-inline>\n",
       "\t<li>'C'</li>\n",
       "\t<li>'8'</li>\n",
       "\t<li>'5'</li>\n",
       "</ol>\n"
      ],
      "text/latex": [
       "\\begin{enumerate*}\n",
       "\\item 'C'\n",
       "\\item '8'\n",
       "\\item '5'\n",
       "\\end{enumerate*}\n"
      ],
      "text/markdown": [
       "1. 'C'\n",
       "2. '8'\n",
       "3. '5'\n",
       "\n",
       "\n"
      ],
      "text/plain": [
       "[1] \"C\" \"8\" \"5\""
      ]
     },
     "metadata": {},
     "output_type": "display_data"
    }
   ],
   "source": [
    "# The first character is the deck. For example:\n",
    "strsplit(full$Cabin[2], NULL)[[1]]"
   ]
  },
  {
   "cell_type": "code",
   "execution_count": 17,
   "metadata": {
    "_uuid": "f204ab94dc162e668312952bb085128f51965442"
   },
   "outputs": [],
   "source": [
    "# Create a Deck variable. Get passenger deck A - F:\n",
    "full$Deck<-factor(sapply(full$Cabin, function(x) strsplit(x, NULL)[[1]][1]))"
   ]
  },
  {
   "cell_type": "code",
   "execution_count": 18,
   "metadata": {
    "_uuid": "dde4978db63045a9a72b5b4374f6f833f9bf5654"
   },
   "outputs": [
    {
     "data": {
      "text/html": [
       "<ol class=list-inline>\n",
       "\t<li>''</li>\n",
       "\t<li>'C85'</li>\n",
       "\t<li>''</li>\n",
       "\t<li>'C123'</li>\n",
       "\t<li>''</li>\n",
       "\t<li>''</li>\n",
       "\t<li>'E46'</li>\n",
       "\t<li>''</li>\n",
       "\t<li>''</li>\n",
       "\t<li>''</li>\n",
       "\t<li>'G6'</li>\n",
       "\t<li>'C103'</li>\n",
       "\t<li>''</li>\n",
       "\t<li>''</li>\n",
       "\t<li>''</li>\n",
       "\t<li>''</li>\n",
       "\t<li>''</li>\n",
       "\t<li>''</li>\n",
       "\t<li>''</li>\n",
       "\t<li>''</li>\n",
       "\t<li>''</li>\n",
       "\t<li>'D56'</li>\n",
       "\t<li>''</li>\n",
       "\t<li>'A6'</li>\n",
       "\t<li>''</li>\n",
       "\t<li>''</li>\n",
       "\t<li>''</li>\n",
       "\t<li>'C23 C25 C27'</li>\n",
       "</ol>\n"
      ],
      "text/latex": [
       "\\begin{enumerate*}\n",
       "\\item ''\n",
       "\\item 'C85'\n",
       "\\item ''\n",
       "\\item 'C123'\n",
       "\\item ''\n",
       "\\item ''\n",
       "\\item 'E46'\n",
       "\\item ''\n",
       "\\item ''\n",
       "\\item ''\n",
       "\\item 'G6'\n",
       "\\item 'C103'\n",
       "\\item ''\n",
       "\\item ''\n",
       "\\item ''\n",
       "\\item ''\n",
       "\\item ''\n",
       "\\item ''\n",
       "\\item ''\n",
       "\\item ''\n",
       "\\item ''\n",
       "\\item 'D56'\n",
       "\\item ''\n",
       "\\item 'A6'\n",
       "\\item ''\n",
       "\\item ''\n",
       "\\item ''\n",
       "\\item 'C23 C25 C27'\n",
       "\\end{enumerate*}\n"
      ],
      "text/markdown": [
       "1. ''\n",
       "2. 'C85'\n",
       "3. ''\n",
       "4. 'C123'\n",
       "5. ''\n",
       "6. ''\n",
       "7. 'E46'\n",
       "8. ''\n",
       "9. ''\n",
       "10. ''\n",
       "11. 'G6'\n",
       "12. 'C103'\n",
       "13. ''\n",
       "14. ''\n",
       "15. ''\n",
       "16. ''\n",
       "17. ''\n",
       "18. ''\n",
       "19. ''\n",
       "20. ''\n",
       "21. ''\n",
       "22. 'D56'\n",
       "23. ''\n",
       "24. 'A6'\n",
       "25. ''\n",
       "26. ''\n",
       "27. ''\n",
       "28. 'C23 C25 C27'\n",
       "\n",
       "\n"
      ],
      "text/plain": [
       " [1] \"\"            \"C85\"         \"\"            \"C123\"        \"\"           \n",
       " [6] \"\"            \"E46\"         \"\"            \"\"            \"\"           \n",
       "[11] \"G6\"          \"C103\"        \"\"            \"\"            \"\"           \n",
       "[16] \"\"            \"\"            \"\"            \"\"            \"\"           \n",
       "[21] \"\"            \"D56\"         \"\"            \"A6\"          \"\"           \n",
       "[26] \"\"            \"\"            \"C23 C25 C27\""
      ]
     },
     "metadata": {},
     "output_type": "display_data"
    }
   ],
   "source": [
    "# This variable appears to have a lot of missing values\n",
    "full$Cabin[1:28]"
   ]
  },
  {
   "cell_type": "code",
   "execution_count": 19,
   "metadata": {
    "_uuid": "8e0a1a0b1f6ee83e524d471c12457e5b7b3a3f52"
   },
   "outputs": [
    {
     "data": {
      "text/html": [
       "<ol class=list-inline>\n",
       "\t<li>'C'</li>\n",
       "\t<li>'8'</li>\n",
       "\t<li>'5'</li>\n",
       "</ol>\n"
      ],
      "text/latex": [
       "\\begin{enumerate*}\n",
       "\\item 'C'\n",
       "\\item '8'\n",
       "\\item '5'\n",
       "\\end{enumerate*}\n"
      ],
      "text/markdown": [
       "1. 'C'\n",
       "2. '8'\n",
       "3. '5'\n",
       "\n",
       "\n"
      ],
      "text/plain": [
       "[1] \"C\" \"8\" \"5\""
      ]
     },
     "metadata": {},
     "output_type": "display_data"
    }
   ],
   "source": [
    "# The first character is the deck. For example:\n",
    "strsplit(full$Cabin[2], NULL)[[1]]"
   ]
  },
  {
   "cell_type": "code",
   "execution_count": 20,
   "metadata": {
    "_uuid": "cfc51d020161260fbafd1ca8fc6af35ff5048260"
   },
   "outputs": [],
   "source": [
    "# Create a Deck variable. Get passenger deck A - F:\n",
    "full$Deck<-factor(sapply(full$Cabin, function(x) strsplit(x, NULL)[[1]][1]))"
   ]
  },
  {
   "cell_type": "markdown",
   "metadata": {
    "_uuid": "cf5d3c9c2de38384bc19619e88d441143a21dbf4"
   },
   "source": [
    "# 5. Data Cleaning"
   ]
  },
  {
   "cell_type": "code",
   "execution_count": 21,
   "metadata": {
    "_uuid": "c6bff228f93d44192bdd7534839f0cfdf3eeabda"
   },
   "outputs": [
    {
     "data": {
      "text/html": [
       "<ol class=list-inline>\n",
       "\t<li>''</li>\n",
       "\t<li>''</li>\n",
       "</ol>\n"
      ],
      "text/latex": [
       "\\begin{enumerate*}\n",
       "\\item ''\n",
       "\\item ''\n",
       "\\end{enumerate*}\n"
      ],
      "text/markdown": [
       "1. ''\n",
       "2. ''\n",
       "\n",
       "\n"
      ],
      "text/plain": [
       "[1] \"\" \"\""
      ]
     },
     "metadata": {},
     "output_type": "display_data"
    }
   ],
   "source": [
    "# Passengers 62 and 830 are missing Embarkment\n",
    "full[c(62, 830), 'Embarked']"
   ]
  },
  {
   "cell_type": "code",
   "execution_count": 23,
   "metadata": {
    "_uuid": "68d178feb6d4f575660b0ccfb5e7048771468b01"
   },
   "outputs": [],
   "source": [
    "# Get rid of our missing passenger IDs\n",
    "embark_fare <- full %>%\n",
    "  filter(PassengerId != 62 & PassengerId != 830)"
   ]
  },
  {
   "cell_type": "code",
   "execution_count": 24,
   "metadata": {
    "_uuid": "cc1a07972a6fa5ca50af4e2922a511a52a558b2c"
   },
   "outputs": [],
   "source": [
    "# Since their fare was $80 for 1st class, they most likely embarked from 'C'\n",
    "full$Embarked[c(62, 830)] <- 'C'"
   ]
  },
  {
   "cell_type": "code",
   "execution_count": 25,
   "metadata": {
    "_uuid": "eb7fc7b04e181eaba3ef3b27d6eed8d731f7d363"
   },
   "outputs": [
    {
     "data": {
      "text/html": [
       "<table>\n",
       "<thead><tr><th></th><th scope=col>PassengerId</th><th scope=col>Survived</th><th scope=col>Pclass</th><th scope=col>Name</th><th scope=col>Sex</th><th scope=col>Age</th><th scope=col>SibSp</th><th scope=col>Parch</th><th scope=col>Ticket</th><th scope=col>Fare</th><th scope=col>Cabin</th><th scope=col>Embarked</th><th scope=col>Title</th><th scope=col>Surname</th><th scope=col>Fsize</th><th scope=col>Family</th><th scope=col>FsizeD</th><th scope=col>Deck</th></tr></thead>\n",
       "<tbody>\n",
       "\t<tr><th scope=row>1044</th><td>1044              </td><td>NA                </td><td>3                 </td><td>Storey, Mr. Thomas</td><td>male              </td><td>60.5              </td><td>0                 </td><td>0                 </td><td>3701              </td><td>NA                </td><td>                  </td><td>S                 </td><td>Mr                </td><td>Storey            </td><td>1                 </td><td>Storey_1          </td><td>singleton         </td><td>NA                </td></tr>\n",
       "</tbody>\n",
       "</table>\n"
      ],
      "text/latex": [
       "\\begin{tabular}{r|llllllllllllllllll}\n",
       "  & PassengerId & Survived & Pclass & Name & Sex & Age & SibSp & Parch & Ticket & Fare & Cabin & Embarked & Title & Surname & Fsize & Family & FsizeD & Deck\\\\\n",
       "\\hline\n",
       "\t1044 & 1044               & NA                 & 3                  & Storey, Mr. Thomas & male               & 60.5               & 0                  & 0                  & 3701               & NA                 &                    & S                  & Mr                 & Storey             & 1                  & Storey\\_1         & singleton          & NA                \\\\\n",
       "\\end{tabular}\n"
      ],
      "text/markdown": [
       "\n",
       "| <!--/--> | PassengerId | Survived | Pclass | Name | Sex | Age | SibSp | Parch | Ticket | Fare | Cabin | Embarked | Title | Surname | Fsize | Family | FsizeD | Deck |\n",
       "|---|---|---|---|---|---|---|---|---|---|---|---|---|---|---|---|---|---|---|\n",
       "| 1044 | 1044               | NA                 | 3                  | Storey, Mr. Thomas | male               | 60.5               | 0                  | 0                  | 3701               | NA                 |                    | S                  | Mr                 | Storey             | 1                  | Storey_1           | singleton          | NA                 |\n",
       "\n"
      ],
      "text/plain": [
       "     PassengerId Survived Pclass Name               Sex  Age  SibSp Parch\n",
       "1044 1044        NA       3      Storey, Mr. Thomas male 60.5 0     0    \n",
       "     Ticket Fare Cabin Embarked Title Surname Fsize Family   FsizeD    Deck\n",
       "1044 3701   NA         S        Mr    Storey  1     Storey_1 singleton NA  "
      ]
     },
     "metadata": {},
     "output_type": "display_data"
    }
   ],
   "source": [
    "# Show row 1044\n",
    "full[1044, ]"
   ]
  },
  {
   "cell_type": "code",
   "execution_count": 26,
   "metadata": {
    "_uuid": "2474171669fb905d3b7788c5ebeeef01b3d81996"
   },
   "outputs": [],
   "source": [
    "# Replace missing fare value with median fare for class/embarkment\n",
    "full$Fare[1044] <- median(full[full$Pclass == '3' & full$Embarked == 'S', ]$Fare, na.rm = TRUE)"
   ]
  },
  {
   "cell_type": "code",
   "execution_count": 27,
   "metadata": {
    "_uuid": "ec753399e1b5aa917ebdeb40a77a931201f2f8b4"
   },
   "outputs": [
    {
     "data": {
      "text/html": [
       "263"
      ],
      "text/latex": [
       "263"
      ],
      "text/markdown": [
       "263"
      ],
      "text/plain": [
       "[1] 263"
      ]
     },
     "metadata": {},
     "output_type": "display_data"
    }
   ],
   "source": [
    "sum(is.na(full$Age))"
   ]
  },
  {
   "cell_type": "code",
   "execution_count": 28,
   "metadata": {
    "_uuid": "869d236c4e99724d5b3c6f2497f902305227c691"
   },
   "outputs": [],
   "source": [
    "# Make variables factors into factors\n",
    "factor_vars <- c('PassengerId','Pclass','Sex','Embarked',\n",
    "                 'Title','Surname','Family','FsizeD')\n",
    "\n",
    "full[factor_vars] <- lapply(full[factor_vars], function(x) as.factor(x))"
   ]
  },
  {
   "cell_type": "code",
   "execution_count": 29,
   "metadata": {
    "_uuid": "b4ea0021ce9f9207398f1c3210b9e01c0ea59b3b"
   },
   "outputs": [],
   "source": [
    "# Set a random seed\n",
    "set.seed(129)"
   ]
  },
  {
   "cell_type": "code",
   "execution_count": 30,
   "metadata": {
    "_uuid": "b089443ff7c1fc7f2b9b1380ac7694192c641e30"
   },
   "outputs": [
    {
     "name": "stdout",
     "output_type": "stream",
     "text": [
      "\n",
      " iter imp variable\n",
      "  1   1  Age  Deck\n",
      "  1   2  Age  Deck\n",
      "  1   3  Age  Deck\n",
      "  1   4  Age  Deck\n",
      "  1   5  Age  Deck\n",
      "  2   1  Age  Deck\n",
      "  2   2  Age  Deck\n",
      "  2   3  Age  Deck\n",
      "  2   4  Age  Deck\n",
      "  2   5  Age  Deck\n",
      "  3   1  Age  Deck\n",
      "  3   2  Age  Deck\n",
      "  3   3  Age  Deck\n",
      "  3   4  Age  Deck\n",
      "  3   5  Age  Deck\n",
      "  4   1  Age  Deck\n",
      "  4   2  Age  Deck\n",
      "  4   3  Age  Deck\n",
      "  4   4  Age  Deck\n",
      "  4   5  Age  Deck\n",
      "  5   1  Age  Deck\n",
      "  5   2  Age  Deck\n",
      "  5   3  Age  Deck\n",
      "  5   4  Age  Deck\n",
      "  5   5  Age  Deck\n"
     ]
    },
    {
     "name": "stderr",
     "output_type": "stream",
     "text": [
      "Warning message:\n",
      "“Number of logged events: 50”"
     ]
    }
   ],
   "source": [
    "# Perform mice imputation, excluding certain less-than-useful variables:\n",
    "mice_mod <- mice(full[, !names(full) %in% c('PassengerId','Name','Ticket','Cabin','Family','Surname','Survived')], method='rf') "
   ]
  },
  {
   "cell_type": "code",
   "execution_count": 31,
   "metadata": {
    "_uuid": "3582dcbd3988c36e121655ccf7ee67584dd9a544"
   },
   "outputs": [],
   "source": [
    "# Save the complete output \n",
    "mice_output <- complete(mice_mod)"
   ]
  },
  {
   "cell_type": "code",
   "execution_count": 32,
   "metadata": {
    "_uuid": "c33a80099bf6f604938b71931c2561d0e5f104af"
   },
   "outputs": [],
   "source": [
    "# Replace Age variable from the mice model.\n",
    "full$Age <- mice_output$Age"
   ]
  },
  {
   "cell_type": "code",
   "execution_count": 33,
   "metadata": {
    "_uuid": "ff8c608ddee2cb5f9ca2454935f956d19c214c50"
   },
   "outputs": [
    {
     "data": {
      "text/html": [
       "0"
      ],
      "text/latex": [
       "0"
      ],
      "text/markdown": [
       "0"
      ],
      "text/plain": [
       "[1] 0"
      ]
     },
     "metadata": {},
     "output_type": "display_data"
    }
   ],
   "source": [
    "# Show new number of missing Age values\n",
    "sum(is.na(full$Age))"
   ]
  },
  {
   "cell_type": "code",
   "execution_count": 34,
   "metadata": {
    "_uuid": "49438844e8467ef5e7b1016c78b3b76f2689da17"
   },
   "outputs": [],
   "source": [
    "# Create the column child, and indicate whether child or adult\n",
    "full$Child[full$Age < 18] <- 'Child'\n",
    "full$Child[full$Age >= 18] <- 'Adult'"
   ]
  },
  {
   "cell_type": "code",
   "execution_count": 35,
   "metadata": {
    "_uuid": "5c25cdf6527cba2146c6817b7db6b239629f28cc"
   },
   "outputs": [
    {
     "data": {
      "text/plain": [
       "       \n",
       "          0   1\n",
       "  Adult 481 272\n",
       "  Child  68  70"
      ]
     },
     "metadata": {},
     "output_type": "display_data"
    }
   ],
   "source": [
    "# Show counts\n",
    "table(full$Child, full$Survived)"
   ]
  },
  {
   "cell_type": "code",
   "execution_count": 36,
   "metadata": {
    "_uuid": "ed6a72d7a8e309005ee6cae9d769311054b59f85"
   },
   "outputs": [],
   "source": [
    "# Adding Mother variable\n",
    "full$Mother <- 'Not Mother'\n",
    "full$Mother[full$Sex == 'female' & full$Parch > 0 & full$Age > 18 & full$Title != 'Miss'] <- 'Mother'"
   ]
  },
  {
   "cell_type": "code",
   "execution_count": 37,
   "metadata": {
    "_uuid": "c5bb41b7034fb52af19822372e960e13da13c3ae"
   },
   "outputs": [
    {
     "data": {
      "text/plain": [
       "            \n",
       "               0   1\n",
       "  Mother      16  39\n",
       "  Not Mother 533 303"
      ]
     },
     "metadata": {},
     "output_type": "display_data"
    }
   ],
   "source": [
    "# Show counts\n",
    "table(full$Mother, full$Survived)"
   ]
  },
  {
   "cell_type": "code",
   "execution_count": 38,
   "metadata": {
    "_uuid": "1866b89aeda6b8def3cec2418c7cede88d7d8428"
   },
   "outputs": [],
   "source": [
    "# Finish by factorizing our two new factor variables\n",
    "full$Child  <- factor(full$Child)\n",
    "full$Mother <- factor(full$Mother)"
   ]
  },
  {
   "cell_type": "markdown",
   "metadata": {
    "_uuid": "1444a593caf0c8904ef52479be4fc33818852dbd"
   },
   "source": [
    "# 6. Prediction with RandomForest"
   ]
  },
  {
   "cell_type": "code",
   "execution_count": 39,
   "metadata": {
    "_uuid": "7e645184834ee69dc0bbfe61966634e0779207b5"
   },
   "outputs": [],
   "source": [
    "# Split the data back into a train set and a test set\n",
    "train <- full[1:891,]\n",
    "test <- full[892:1309,]"
   ]
  },
  {
   "cell_type": "code",
   "execution_count": 40,
   "metadata": {
    "_uuid": "a2864957bf265c98f0f90810c369c0cfa821084a"
   },
   "outputs": [],
   "source": [
    "# Set a random seed\n",
    "set.seed(2)"
   ]
  },
  {
   "cell_type": "code",
   "execution_count": 41,
   "metadata": {
    "_uuid": "256c5946a01543cb4350e8a0f49617a454a823da"
   },
   "outputs": [],
   "source": [
    "# Build the model (note: not all possible variables are used)\n",
    "rf_model <- randomForest(factor(Survived) ~ Pclass + Sex + Age + SibSp + Parch + \n",
    "                                            Fare + Embarked + Title + \n",
    "                                            FsizeD + Child + Mother,\n",
    "                                            data = train)"
   ]
  },
  {
   "cell_type": "code",
   "execution_count": 42,
   "metadata": {
    "_uuid": "9265c88b54e34719b11ca8afb588a88dd57ffff9"
   },
   "outputs": [
    {
     "data": {
      "image/png": "[encoded data removed]"
     },
     "metadata": {},
     "output_type": "display_data"
    }
   ],
   "source": [
    "# Show model error\n",
    "plot(rf_model, ylim=c(0,0.36))\n",
    "legend('topright', colnames(rf_model$err.rate), col=1:3, fill=1:3)"
   ]
  },
  {
   "cell_type": "markdown",
   "metadata": {
    "_uuid": "826b92b5e8a274f732fbcdd3b28787c67f0bdd65"
   },
   "source": [
    "The black line shows the overall error rate which falls below 20%. \n",
    "The red and green lines show the error rate for 'died' and 'survived' respectively. We can see that right now we're much more successful predicting death than we are survival. What does that say about me, I wonder?\n",
    "\n",
    "# 7. Variable importance\n",
    "\n",
    "Let's look at relative variable importance by plotting the mean decrease in Gini calculated across all trees."
   ]
  },
  {
   "cell_type": "code",
   "execution_count": 43,
   "metadata": {
    "_uuid": "b11b4e770ac3ea20b74e78085d8f3f9cc5088b6f"
   },
   "outputs": [],
   "source": [
    "# Get importance\n",
    "importance    <- importance(rf_model)\n",
    "varImportance <- data.frame(Variables = row.names(importance), \n",
    "                            Importance = round(importance[ ,'MeanDecreaseGini'],2))\n"
   ]
  },
  {
   "cell_type": "code",
   "execution_count": 44,
   "metadata": {
    "_uuid": "f3cbbef27cbbf362c7672856783ea33d3afc084b"
   },
   "outputs": [],
   "source": [
    "# Create a rank variable based on importance\n",
    "rankImportance <- varImportance %>%\n",
    "  mutate(Rank = paste0('#',dense_rank(desc(Importance))))"
   ]
  },
  {
   "cell_type": "code",
   "execution_count": 45,
   "metadata": {
    "_uuid": "31cd9450a82732ba53c9d105268060cc5617b146"
   },
   "outputs": [
    {
     "data": {
      "image/png": "[encoded data removed]"
     },
     "metadata": {},
     "output_type": "display_data"
    }
   ],
   "source": [
    "# Use ggplot2 to visualize the relative importance of variables\n",
    "ggplot(rankImportance, aes(x = reorder(Variables, Importance), \n",
    "    y = Importance, fill = Importance)) +\n",
    "  geom_bar(stat='identity') + \n",
    "  geom_text(aes(x = Variables, y = 0.5, label = Rank),\n",
    "    hjust=0, vjust=0.55, size = 4, colour = 'red') +\n",
    "  labs(x = 'Variables') +\n",
    "  coord_flip() + \n",
    "  theme_few()"
   ]
  },
  {
   "cell_type": "markdown",
   "metadata": {
    "_uuid": "e82784fb75246a8c43f8dae34b3af63e2070af7d"
   },
   "source": [
    "Whoa, glad we made our title variable! It has the highest relative importance out of all of our predictor variables. I think I'm most surprised to see that passenger class fell to `r rankImportance[rankImportance$Variable == 'Pclass', ]$Rank`, but maybe that's just bias coming from watching the movie Titanic too many times as a kid.\n",
    "\n",
    "# 8. Evaluating our model"
   ]
  },
  {
   "cell_type": "markdown",
   "metadata": {},
   "source": [
    "# 8.1 Classification accuracy\n",
    "We will compare the accuracy of our model with a dumb model, which always predicts 1, to evaluate the quality of our model."
   ]
  },
  {
   "cell_type": "code",
   "execution_count": 46,
   "metadata": {
    "_uuid": "337b8d95c518ae83504ebb2c4cf1f8ba935b7501"
   },
   "outputs": [],
   "source": [
    "# Predict using the test set\n",
    "prediction <- predict(rf_model, test)"
   ]
  },
  {
   "cell_type": "code",
   "execution_count": 47,
   "metadata": {
    "_uuid": "b6efd61f4db8587acaca50567f1a40a9cdcf9d86"
   },
   "outputs": [],
   "source": [
    "# Save the solution to a dataframe with two columns: PassengerId and Survived (prediction)\n",
    "solution <- data.frame(PassengerID = test$PassengerId, Survived = prediction)"
   ]
  },
  {
   "cell_type": "code",
   "execution_count": 48,
   "metadata": {
    "_uuid": "e01fc79a4100bf3dae927ebe4b50a03b3ece8304"
   },
   "outputs": [],
   "source": [
    "# Write the solution to file\n",
    "write.csv(solution, file = 'rf_mod_Solution.csv', row.names = F)"
   ]
  },
  {
   "cell_type": "markdown",
   "metadata": {},
   "source": [
    "# 9. Reference\n",
    "https://www.kaggle.com/code/arunkumarramanan/data-science-in-r-and-titanic-survival-prediction"
   ]
  }
 ],
 "metadata": {
  "kernelspec": {
   "display_name": "R",
   "language": "R",
   "name": "ir"
  },
  "language_info": {
   "codemirror_mode": "r",
   "file_extension": ".r",
   "mimetype": "text/x-r-source",
   "name": "R",
   "pygments_lexer": "r",
   "version": "3.6.1"
  }
 },
 "nbformat": 4,
 "nbformat_minor": 1
}
